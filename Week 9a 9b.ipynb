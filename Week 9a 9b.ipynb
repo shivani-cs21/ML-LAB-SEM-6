{
  "cells": [
    {
      "cell_type": "markdown",
      "metadata": {
        "id": "view-in-github",
        "colab_type": "text"
      },
      "source": [
        "<a href=\"https://colab.research.google.com/github/KamathVaishnavi/Machine_Learning/blob/main/9a_9b_RandomForestAndAdaBoost.ipynb\" target=\"_parent\"><img src=\"https://colab.research.google.com/assets/colab-badge.svg\" alt=\"Open In Colab\"/></a>"
      ]
    },
    {
      "source": [
        "\n",
        "# IMPORTANT: RUN THIS CELL IN ORDER TO IMPORT YOUR KAGGLE DATA SOURCES\n",
        "# TO THE CORRECT LOCATION (/kaggle/input) IN YOUR NOTEBOOK,\n",
        "# THEN FEEL FREE TO DELETE THIS CELL.\n",
        "# NOTE: THIS NOTEBOOK ENVIRONMENT DIFFERS FROM KAGGLE'S PYTHON\n",
        "# ENVIRONMENT SO THERE MAY BE MISSING LIBRARIES USED BY YOUR\n",
        "# NOTEBOOK.\n",
        "\n",
        "import os\n",
        "import sys\n",
        "from tempfile import NamedTemporaryFile\n",
        "from urllib.request import urlopen\n",
        "from urllib.parse import unquote, urlparse\n",
        "from urllib.error import HTTPError\n",
        "from zipfile import ZipFile\n",
        "import tarfile\n",
        "import shutil\n",
        "\n",
        "CHUNK_SIZE = 40960\n",
        "DATA_SOURCE_MAPPING = ':https%3A%2F%2Fstorage.googleapis.com%2Fkaggle-data-sets%2F2363%2F3972%2Fbundle%2Farchive.zip%3FX-Goog-Algorithm%3DGOOG4-RSA-SHA256%26X-Goog-Credential%3Dgcp-kaggle-com%2540kaggle-161607.iam.gserviceaccount.com%252F20240523%252Fauto%252Fstorage%252Fgoog4_request%26X-Goog-Date%3D20240523T062529Z%26X-Goog-Expires%3D259200%26X-Goog-SignedHeaders%3Dhost%26X-Goog-Signature%3D3b1619af9bd9f4c1852fac85e3db0fd3448c04e5faa91671d0fca222f3ed79a0e20b1adb5120a510d52bdb1416f088aa2389fb7c0952e2510714d1027e6c362cbc95833877fe21f906c09e701fd5496dc135ea3986378d0e114afb192d007f7ecb606c8f1444e1abe7607741cc2ee72ece0a62e75e0c633a35988e7d8c41d6591928b378c7e523c32dded4e4a692b1e6f3c0be38bd42351a3f4f61c8af8b98d9e102064c4961f0872387041a5fbbc1b2861af703b09f88989fc3f58187518ca93e4ff081bf027095e74df363f8186cb679406855f3710c7dcc4549559e5527b44d740d263179e6d2d5f48744b57bc27ddd81921705f57db22a8824c82bb52468'\n",
        "\n",
        "KAGGLE_INPUT_PATH='/kaggle/input'\n",
        "KAGGLE_WORKING_PATH='/kaggle/working'\n",
        "KAGGLE_SYMLINK='kaggle'\n",
        "\n",
        "!umount /kaggle/input/ 2> /dev/null\n",
        "shutil.rmtree('/kaggle/input', ignore_errors=True)\n",
        "os.makedirs(KAGGLE_INPUT_PATH, 0o777, exist_ok=True)\n",
        "os.makedirs(KAGGLE_WORKING_PATH, 0o777, exist_ok=True)\n",
        "\n",
        "try:\n",
        "  os.symlink(KAGGLE_INPUT_PATH, os.path.join(\"..\", 'input'), target_is_directory=True)\n",
        "except FileExistsError:\n",
        "  pass\n",
        "try:\n",
        "  os.symlink(KAGGLE_WORKING_PATH, os.path.join(\"..\", 'working'), target_is_directory=True)\n",
        "except FileExistsError:\n",
        "  pass\n",
        "\n",
        "for data_source_mapping in DATA_SOURCE_MAPPING.split(','):\n",
        "    directory, download_url_encoded = data_source_mapping.split(':')\n",
        "    download_url = unquote(download_url_encoded)\n",
        "    filename = urlparse(download_url).path\n",
        "    destination_path = os.path.join(KAGGLE_INPUT_PATH, directory)\n",
        "    try:\n",
        "        with urlopen(download_url) as fileres, NamedTemporaryFile() as tfile:\n",
        "            total_length = fileres.headers['content-length']\n",
        "            print(f'Downloading {directory}, {total_length} bytes compressed')\n",
        "            dl = 0\n",
        "            data = fileres.read(CHUNK_SIZE)\n",
        "            while len(data) > 0:\n",
        "                dl += len(data)\n",
        "                tfile.write(data)\n",
        "                done = int(50 * dl / int(total_length))\n",
        "                sys.stdout.write(f\"\\r[{'=' * done}{' ' * (50-done)}] {dl} bytes downloaded\")\n",
        "                sys.stdout.flush()\n",
        "                data = fileres.read(CHUNK_SIZE)\n",
        "            if filename.endswith('.zip'):\n",
        "              with ZipFile(tfile) as zfile:\n",
        "                zfile.extractall(destination_path)\n",
        "            else:\n",
        "              with tarfile.open(tfile.name) as tarfile:\n",
        "                tarfile.extractall(destination_path)\n",
        "            print(f'\\nDownloaded and uncompressed: {directory}')\n",
        "    except HTTPError as e:\n",
        "        print(f'Failed to load (likely expired) {download_url} to path {destination_path}')\n",
        "        continue\n",
        "    except OSError as e:\n",
        "        print(f'Failed to load {download_url} to path {destination_path}')\n",
        "        continue\n",
        "\n",
        "print('Data source import complete.')\n"
      ],
      "metadata": {
        "id": "Qbp2Wi1xIFMB"
      },
      "cell_type": "code",
      "outputs": [],
      "execution_count": null
    },
    {
      "metadata": {
        "_uuid": "8f2839f25d086af736a60e9eeb907d3b93b6e0e5",
        "_cell_guid": "b1076dfc-b9ad-4769-8c92-a6c4dae69d19",
        "trusted": true,
        "_kg_hide-input": false,
        "id": "fyK1WehqIFMC",
        "outputId": "8deb1287-4b41-4b2e-f8bb-d199952a55fd"
      },
      "cell_type": "code",
      "source": [
        "import numpy as np\n",
        "import pandas as pd\n",
        "import numpy as np\n",
        "from sklearn.svm import SVC, SVR\n",
        "from sklearn import preprocessing\n",
        "import matplotlib.pyplot as plt\n",
        "%matplotlib inline\n",
        "from sklearn.model_selection import train_test_split\n",
        "from sklearn.ensemble import (RandomForestClassifier, ExtraTreesClassifier,\n",
        "                              AdaBoostClassifier)\n",
        "from sklearn.tree import DecisionTreeClassifier\n",
        "#Import scikit-learn metrics module for accuracy calculation\n",
        "from sklearn import metrics\n",
        "\n",
        "import os\n",
        "print(os.listdir(\"../input\"))\n"
      ],
      "execution_count": null,
      "outputs": [
        {
          "output_type": "stream",
          "text": "['faults.csv']\n",
          "name": "stdout"
        }
      ]
    },
    {
      "metadata": {
        "_cell_guid": "79c7e3d0-c299-4dcb-8224-4455121ee9b0",
        "_uuid": "d629ff2d2480ee46fbb7e2d37f6b5fab8052498a",
        "trusted": true,
        "scrolled": true,
        "id": "mg1uhHFCIFMD",
        "outputId": "55fdce95-6ed1-4c6c-dd44-1fc3c7b70dd6"
      },
      "cell_type": "code",
      "source": [
        "dataset=pd.read_csv(\"../input/faults.csv\")\n",
        "dataset[0:6]"
      ],
      "execution_count": null,
      "outputs": [
        {
          "output_type": "execute_result",
          "execution_count": 2,
          "data": {
            "text/plain": "   X_Minimum  X_Maximum  Y_Minimum      ...       Dirtiness  Bumps  Other_Faults\n0         42         50     270900      ...               0      0             0\n1        645        651    2538079      ...               0      0             0\n2        829        835    1553913      ...               0      0             0\n3        853        860     369370      ...               0      0             0\n4       1289       1306     498078      ...               0      0             0\n5        430        441     100250      ...               0      0             0\n\n[6 rows x 34 columns]",
            "text/html": "<div>\n<style scoped>\n    .dataframe tbody tr th:only-of-type {\n        vertical-align: middle;\n    }\n\n    .dataframe tbody tr th {\n        vertical-align: top;\n    }\n\n    .dataframe thead th {\n        text-align: right;\n    }\n</style>\n<table border=\"1\" class=\"dataframe\">\n  <thead>\n    <tr style=\"text-align: right;\">\n      <th></th>\n      <th>X_Minimum</th>\n      <th>X_Maximum</th>\n      <th>Y_Minimum</th>\n      <th>Y_Maximum</th>\n      <th>Pixels_Areas</th>\n      <th>X_Perimeter</th>\n      <th>Y_Perimeter</th>\n      <th>Sum_of_Luminosity</th>\n      <th>Minimum_of_Luminosity</th>\n      <th>Maximum_of_Luminosity</th>\n      <th>Length_of_Conveyer</th>\n      <th>TypeOfSteel_A300</th>\n      <th>TypeOfSteel_A400</th>\n      <th>Steel_Plate_Thickness</th>\n      <th>Edges_Index</th>\n      <th>Empty_Index</th>\n      <th>Square_Index</th>\n      <th>Outside_X_Index</th>\n      <th>Edges_X_Index</th>\n      <th>Edges_Y_Index</th>\n      <th>Outside_Global_Index</th>\n      <th>LogOfAreas</th>\n      <th>Log_X_Index</th>\n      <th>Log_Y_Index</th>\n      <th>Orientation_Index</th>\n      <th>Luminosity_Index</th>\n      <th>SigmoidOfAreas</th>\n      <th>Pastry</th>\n      <th>Z_Scratch</th>\n      <th>K_Scatch</th>\n      <th>Stains</th>\n      <th>Dirtiness</th>\n      <th>Bumps</th>\n      <th>Other_Faults</th>\n    </tr>\n  </thead>\n  <tbody>\n    <tr>\n      <th>0</th>\n      <td>42</td>\n      <td>50</td>\n      <td>270900</td>\n      <td>270944</td>\n      <td>267</td>\n      <td>17</td>\n      <td>44</td>\n      <td>24220</td>\n      <td>76</td>\n      <td>108</td>\n      <td>1687</td>\n      <td>1</td>\n      <td>0</td>\n      <td>80</td>\n      <td>0.0498</td>\n      <td>0.2415</td>\n      <td>0.1818</td>\n      <td>0.0047</td>\n      <td>0.4706</td>\n      <td>1.0000</td>\n      <td>1.0</td>\n      <td>2.4265</td>\n      <td>0.9031</td>\n      <td>1.6435</td>\n      <td>0.8182</td>\n      <td>-0.2913</td>\n      <td>0.5822</td>\n      <td>1</td>\n      <td>0</td>\n      <td>0</td>\n      <td>0</td>\n      <td>0</td>\n      <td>0</td>\n      <td>0</td>\n    </tr>\n    <tr>\n      <th>1</th>\n      <td>645</td>\n      <td>651</td>\n      <td>2538079</td>\n      <td>2538108</td>\n      <td>108</td>\n      <td>10</td>\n      <td>30</td>\n      <td>11397</td>\n      <td>84</td>\n      <td>123</td>\n      <td>1687</td>\n      <td>1</td>\n      <td>0</td>\n      <td>80</td>\n      <td>0.7647</td>\n      <td>0.3793</td>\n      <td>0.2069</td>\n      <td>0.0036</td>\n      <td>0.6000</td>\n      <td>0.9667</td>\n      <td>1.0</td>\n      <td>2.0334</td>\n      <td>0.7782</td>\n      <td>1.4624</td>\n      <td>0.7931</td>\n      <td>-0.1756</td>\n      <td>0.2984</td>\n      <td>1</td>\n      <td>0</td>\n      <td>0</td>\n      <td>0</td>\n      <td>0</td>\n      <td>0</td>\n      <td>0</td>\n    </tr>\n    <tr>\n      <th>2</th>\n      <td>829</td>\n      <td>835</td>\n      <td>1553913</td>\n      <td>1553931</td>\n      <td>71</td>\n      <td>8</td>\n      <td>19</td>\n      <td>7972</td>\n      <td>99</td>\n      <td>125</td>\n      <td>1623</td>\n      <td>1</td>\n      <td>0</td>\n      <td>100</td>\n      <td>0.9710</td>\n      <td>0.3426</td>\n      <td>0.3333</td>\n      <td>0.0037</td>\n      <td>0.7500</td>\n      <td>0.9474</td>\n      <td>1.0</td>\n      <td>1.8513</td>\n      <td>0.7782</td>\n      <td>1.2553</td>\n      <td>0.6667</td>\n      <td>-0.1228</td>\n      <td>0.2150</td>\n      <td>1</td>\n      <td>0</td>\n      <td>0</td>\n      <td>0</td>\n      <td>0</td>\n      <td>0</td>\n      <td>0</td>\n    </tr>\n    <tr>\n      <th>3</th>\n      <td>853</td>\n      <td>860</td>\n      <td>369370</td>\n      <td>369415</td>\n      <td>176</td>\n      <td>13</td>\n      <td>45</td>\n      <td>18996</td>\n      <td>99</td>\n      <td>126</td>\n      <td>1353</td>\n      <td>0</td>\n      <td>1</td>\n      <td>290</td>\n      <td>0.7287</td>\n      <td>0.4413</td>\n      <td>0.1556</td>\n      <td>0.0052</td>\n      <td>0.5385</td>\n      <td>1.0000</td>\n      <td>1.0</td>\n      <td>2.2455</td>\n      <td>0.8451</td>\n      <td>1.6532</td>\n      <td>0.8444</td>\n      <td>-0.1568</td>\n      <td>0.5212</td>\n      <td>1</td>\n      <td>0</td>\n      <td>0</td>\n      <td>0</td>\n      <td>0</td>\n      <td>0</td>\n      <td>0</td>\n    </tr>\n    <tr>\n      <th>4</th>\n      <td>1289</td>\n      <td>1306</td>\n      <td>498078</td>\n      <td>498335</td>\n      <td>2409</td>\n      <td>60</td>\n      <td>260</td>\n      <td>246930</td>\n      <td>37</td>\n      <td>126</td>\n      <td>1353</td>\n      <td>0</td>\n      <td>1</td>\n      <td>185</td>\n      <td>0.0695</td>\n      <td>0.4486</td>\n      <td>0.0662</td>\n      <td>0.0126</td>\n      <td>0.2833</td>\n      <td>0.9885</td>\n      <td>1.0</td>\n      <td>3.3818</td>\n      <td>1.2305</td>\n      <td>2.4099</td>\n      <td>0.9338</td>\n      <td>-0.1992</td>\n      <td>1.0000</td>\n      <td>1</td>\n      <td>0</td>\n      <td>0</td>\n      <td>0</td>\n      <td>0</td>\n      <td>0</td>\n      <td>0</td>\n    </tr>\n    <tr>\n      <th>5</th>\n      <td>430</td>\n      <td>441</td>\n      <td>100250</td>\n      <td>100337</td>\n      <td>630</td>\n      <td>20</td>\n      <td>87</td>\n      <td>62357</td>\n      <td>64</td>\n      <td>127</td>\n      <td>1387</td>\n      <td>0</td>\n      <td>1</td>\n      <td>40</td>\n      <td>0.6200</td>\n      <td>0.3417</td>\n      <td>0.1264</td>\n      <td>0.0079</td>\n      <td>0.5500</td>\n      <td>1.0000</td>\n      <td>1.0</td>\n      <td>2.7993</td>\n      <td>1.0414</td>\n      <td>1.9395</td>\n      <td>0.8736</td>\n      <td>-0.2267</td>\n      <td>0.9874</td>\n      <td>1</td>\n      <td>0</td>\n      <td>0</td>\n      <td>0</td>\n      <td>0</td>\n      <td>0</td>\n      <td>0</td>\n    </tr>\n  </tbody>\n</table>\n</div>"
          },
          "metadata": {}
        }
      ]
    },
    {
      "metadata": {
        "trusted": true,
        "_uuid": "6a5f4d709d1e1b5a4e582b20da17119832d52547",
        "id": "t_JR3LOnIFMD",
        "outputId": "49a2f962-b3f3-4514-c376-5967c3b1f532"
      },
      "cell_type": "code",
      "source": [
        "headers = list(dataset.columns.values)\n",
        "headers_input = headers[:-7]\n",
        "headers_output = headers[-7:]\n",
        "print('features for input X:', headers_input)\n",
        "print('classes for output Y:', headers_output)"
      ],
      "execution_count": null,
      "outputs": [
        {
          "output_type": "stream",
          "text": "features for input X: ['X_Minimum', 'X_Maximum', 'Y_Minimum', 'Y_Maximum', 'Pixels_Areas', 'X_Perimeter', 'Y_Perimeter', 'Sum_of_Luminosity', 'Minimum_of_Luminosity', 'Maximum_of_Luminosity', 'Length_of_Conveyer', 'TypeOfSteel_A300', 'TypeOfSteel_A400', 'Steel_Plate_Thickness', 'Edges_Index', 'Empty_Index', 'Square_Index', 'Outside_X_Index', 'Edges_X_Index', 'Edges_Y_Index', 'Outside_Global_Index', 'LogOfAreas', 'Log_X_Index', 'Log_Y_Index', 'Orientation_Index', 'Luminosity_Index', 'SigmoidOfAreas']\nclasses for output Y: ['Pastry', 'Z_Scratch', 'K_Scatch', 'Stains', 'Dirtiness', 'Bumps', 'Other_Faults']\n",
          "name": "stdout"
        }
      ]
    },
    {
      "metadata": {
        "trusted": true,
        "id": "EX5fZ9NXIFMD"
      },
      "cell_type": "code",
      "source": [
        "input_x = dataset[headers_input]\n",
        "output_y = dataset[headers_output]"
      ],
      "execution_count": null,
      "outputs": []
    },
    {
      "metadata": {
        "id": "690fr6MUIFMD"
      },
      "cell_type": "markdown",
      "source": [
        "Which features are not important"
      ]
    },
    {
      "metadata": {
        "trusted": true,
        "id": "LzaAKqlHIFME",
        "outputId": "7c1a9ccd-b755-491b-844e-5968cad88db6"
      },
      "cell_type": "code",
      "source": [
        "min_max_scaler = preprocessing.MinMaxScaler(feature_range=(0,1))\n",
        "np_scaled = min_max_scaler.fit_transform(input_x)\n",
        "headers_27 = list(input_x.columns.values)\n",
        "input_x_27 = pd.DataFrame(np_scaled)\n",
        "input_x_27.columns = headers_27\n",
        "input_x_27[0:3]"
      ],
      "execution_count": null,
      "outputs": [
        {
          "output_type": "stream",
          "text": "/opt/conda/lib/python3.6/site-packages/sklearn/preprocessing/data.py:334: DataConversionWarning: Data with input dtype int64, float64 were all converted to float64 by MinMaxScaler.\n  return self.partial_fit(X, y)\n",
          "name": "stderr"
        },
        {
          "output_type": "execute_result",
          "execution_count": 5,
          "data": {
            "text/plain": "   X_Minimum  X_Maximum       ...        Luminosity_Index  SigmoidOfAreas\n0   0.024633   0.026916       ...                0.431200        0.525766\n1   0.378299   0.378584       ...                0.501706        0.203632\n2   0.486217   0.486249       ...                0.533882        0.108967\n\n[3 rows x 27 columns]",
            "text/html": "<div>\n<style scoped>\n    .dataframe tbody tr th:only-of-type {\n        vertical-align: middle;\n    }\n\n    .dataframe tbody tr th {\n        vertical-align: top;\n    }\n\n    .dataframe thead th {\n        text-align: right;\n    }\n</style>\n<table border=\"1\" class=\"dataframe\">\n  <thead>\n    <tr style=\"text-align: right;\">\n      <th></th>\n      <th>X_Minimum</th>\n      <th>X_Maximum</th>\n      <th>Y_Minimum</th>\n      <th>Y_Maximum</th>\n      <th>Pixels_Areas</th>\n      <th>X_Perimeter</th>\n      <th>Y_Perimeter</th>\n      <th>Sum_of_Luminosity</th>\n      <th>Minimum_of_Luminosity</th>\n      <th>Maximum_of_Luminosity</th>\n      <th>Length_of_Conveyer</th>\n      <th>TypeOfSteel_A300</th>\n      <th>TypeOfSteel_A400</th>\n      <th>Steel_Plate_Thickness</th>\n      <th>Edges_Index</th>\n      <th>Empty_Index</th>\n      <th>Square_Index</th>\n      <th>Outside_X_Index</th>\n      <th>Edges_X_Index</th>\n      <th>Edges_Y_Index</th>\n      <th>Outside_Global_Index</th>\n      <th>LogOfAreas</th>\n      <th>Log_X_Index</th>\n      <th>Log_Y_Index</th>\n      <th>Orientation_Index</th>\n      <th>Luminosity_Index</th>\n      <th>SigmoidOfAreas</th>\n    </tr>\n  </thead>\n  <tbody>\n    <tr>\n      <th>0</th>\n      <td>0.024633</td>\n      <td>0.026916</td>\n      <td>0.020352</td>\n      <td>0.020354</td>\n      <td>0.001736</td>\n      <td>0.001436</td>\n      <td>0.002369</td>\n      <td>0.002068</td>\n      <td>0.374384</td>\n      <td>0.328704</td>\n      <td>0.811287</td>\n      <td>1.0</td>\n      <td>0.0</td>\n      <td>0.153846</td>\n      <td>0.050040</td>\n      <td>0.255853</td>\n      <td>0.174952</td>\n      <td>0.003660</td>\n      <td>0.462865</td>\n      <td>1.000000</td>\n      <td>1.0</td>\n      <td>0.435312</td>\n      <td>0.217122</td>\n      <td>0.385916</td>\n      <td>0.912493</td>\n      <td>0.431200</td>\n      <td>0.525766</td>\n    </tr>\n    <tr>\n      <th>1</th>\n      <td>0.378299</td>\n      <td>0.378584</td>\n      <td>0.195006</td>\n      <td>0.195007</td>\n      <td>0.000694</td>\n      <td>0.000766</td>\n      <td>0.001598</td>\n      <td>0.000962</td>\n      <td>0.413793</td>\n      <td>0.398148</td>\n      <td>0.811287</td>\n      <td>1.0</td>\n      <td>0.0</td>\n      <td>0.153846</td>\n      <td>0.768388</td>\n      <td>0.401843</td>\n      <td>0.200262</td>\n      <td>0.002402</td>\n      <td>0.594156</td>\n      <td>0.965006</td>\n      <td>1.0</td>\n      <td>0.354804</td>\n      <td>0.172082</td>\n      <td>0.343391</td>\n      <td>0.899834</td>\n      <td>0.501706</td>\n      <td>0.203632</td>\n    </tr>\n    <tr>\n      <th>2</th>\n      <td>0.486217</td>\n      <td>0.486249</td>\n      <td>0.119190</td>\n      <td>0.119190</td>\n      <td>0.000452</td>\n      <td>0.000574</td>\n      <td>0.000992</td>\n      <td>0.000666</td>\n      <td>0.487685</td>\n      <td>0.407407</td>\n      <td>0.698413</td>\n      <td>1.0</td>\n      <td>0.0</td>\n      <td>0.230769</td>\n      <td>0.975683</td>\n      <td>0.362962</td>\n      <td>0.327720</td>\n      <td>0.002516</td>\n      <td>0.746347</td>\n      <td>0.944725</td>\n      <td>1.0</td>\n      <td>0.317509</td>\n      <td>0.172082</td>\n      <td>0.294761</td>\n      <td>0.836082</td>\n      <td>0.533882</td>\n      <td>0.108967</td>\n    </tr>\n  </tbody>\n</table>\n</div>"
          },
          "metadata": {}
        }
      ]
    },
    {
      "metadata": {
        "id": "Va1moqhQIFME"
      },
      "cell_type": "markdown",
      "source": [
        "Value of Y is number between [0;6], which represent each class:"
      ]
    },
    {
      "metadata": {
        "trusted": true,
        "id": "atjZDZufIFME",
        "outputId": "7e267449-f031-429c-8585-2500bba3aa16"
      },
      "cell_type": "code",
      "source": [
        "from sklearn.preprocessing import LabelEncoder\n",
        "le=LabelEncoder()\n",
        "targets=(output_y.iloc[:,:]==1).idxmax(1)\n",
        "print(targets.value_counts())\n",
        "Y=le.fit_transform(targets)\n",
        "print(len(Y))"
      ],
      "execution_count": null,
      "outputs": [
        {
          "output_type": "stream",
          "text": "Other_Faults    673\nBumps           402\nK_Scatch        391\nZ_Scratch       190\nPastry          158\nStains           72\nDirtiness        55\ndtype: int64\n1941\n",
          "name": "stdout"
        }
      ]
    },
    {
      "metadata": {
        "trusted": true,
        "id": "hMUr5qT4IFME"
      },
      "cell_type": "code",
      "source": [
        "X_train_27, X_test_27, y_train_27, y_test_27 = train_test_split(input_x_27, Y, test_size=0.3)"
      ],
      "execution_count": null,
      "outputs": []
    },
    {
      "metadata": {
        "trusted": true,
        "id": "MW_6cqzoIFME",
        "outputId": "1e067d8d-2583-402f-ab29-83eb8ec8a4f9"
      },
      "cell_type": "code",
      "source": [
        "import matplotlib.pyplot as plt\n",
        "import seaborn as sns\n",
        "\n",
        "#Create a Gaussian Classifier\n",
        "clf=RandomForestClassifier(n_estimators=100)\n",
        "#Train the model using the training sets y_pred=clf.predict(X_test)\n",
        "clf.fit(X_train_27,y_train_27)\n",
        "headers_norm = list(X_train_27.columns.values)\n",
        "feature_imp = pd.Series(clf.feature_importances_,index=headers_norm).sort_values(ascending=False)\n",
        "# Creating a bar plot\n",
        "sns.barplot(x=feature_imp, y=feature_imp.index)\n",
        "# Add labels to your graph\n",
        "plt.xlabel('Feature Importance Score')\n",
        "plt.ylabel('Features')\n",
        "plt.title(\"Visualizing Important Features\")\n",
        "plt.legend()\n",
        "plt.show()"
      ],
      "execution_count": null,
      "outputs": [
        {
          "output_type": "stream",
          "text": "No handles with labels found to put in legend.\n",
          "name": "stderr"
        },
        {
          "output_type": "display_data",
          "data": {
            "text/plain": "<Figure size 432x288 with 1 Axes>",
            "image/png": "[encoded data removed]"
          },
          "metadata": {}
        }
      ]
    },
    {
      "metadata": {
        "id": "3fdw9L1-IFME"
      },
      "cell_type": "markdown",
      "source": [
        "The most important features accoding to Random Forest are: Length_of_Conveyer, LogOfAreas, Pixels_Areas, Steel_Plate_Thickness, Sum_of_Luminosity, Log_X_Index, X_Maximum."
      ]
    },
    {
      "metadata": {
        "id": "i2Csg9hrIFME"
      },
      "cell_type": "markdown",
      "source": [
        "We will drop values which are not important based on dimensionality reduction: high Correlation filter"
      ]
    },
    {
      "metadata": {
        "trusted": true,
        "_uuid": "f5b40d9705984d6ad043602bf2fe14d525f1e4e1",
        "id": "k3AB5ZyHIFME",
        "outputId": "fc3917f3-d7af-441d-d623-8ac0762d6d15"
      },
      "cell_type": "code",
      "source": [
        "# Create correlation matrix\n",
        "corr_matrix = input_x.corr().abs()\n",
        "\n",
        "# Select upper triangle of correlation matrix\n",
        "upper = corr_matrix.where(np.triu(np.ones(corr_matrix.shape), k=1).astype(np.bool))\n",
        "\n",
        "# Find index of feature columns with correlation greater than 0.95\n",
        "to_drop = [column for column in upper.columns if any(upper[column] > 0.95)]\n",
        "\n",
        "print(to_drop)"
      ],
      "execution_count": null,
      "outputs": [
        {
          "output_type": "stream",
          "text": "['X_Maximum', 'Y_Maximum', 'X_Perimeter', 'Sum_of_Luminosity', 'TypeOfSteel_A400']\n",
          "name": "stdout"
        }
      ]
    },
    {
      "metadata": {
        "trusted": true,
        "_uuid": "baaecbc4b30a10e53f5eac1babad589831bd67b3",
        "id": "mU72o6RFIFMF",
        "outputId": "3a0f6e39-920b-43a7-c71e-9295de4b2b09"
      },
      "cell_type": "code",
      "source": [
        "plt.matshow(input_x.corr())\n",
        "plt.xticks(range(len(input_x.columns)), input_x.columns)\n",
        "plt.yticks(range(len(input_x.columns)), input_x.columns)\n",
        "plt.colorbar()\n",
        "plt.show()"
      ],
      "execution_count": null,
      "outputs": [
        {
          "output_type": "display_data",
          "data": {
            "text/plain": "<Figure size 288x288 with 2 Axes>",
            "image/png": "[encoded data removed]"
          },
          "metadata": {}
        }
      ]
    },
    {
      "metadata": {
        "id": "ofz-k2NkIFMF"
      },
      "cell_type": "markdown",
      "source": [
        "Drop features that have correlation with other features as they are not important according to Random Forest feature selection."
      ]
    },
    {
      "metadata": {
        "trusted": true,
        "_uuid": "85119535c1f5edf874199cac25bac94973089b2b",
        "id": "pQJWlR7MIFMF",
        "outputId": "47c70830-685e-40f0-b245-11620311f6b3"
      },
      "cell_type": "code",
      "source": [
        "input_x = input_x.drop(input_x[to_drop], axis=1)\n",
        "input_x[0:6]"
      ],
      "execution_count": null,
      "outputs": [
        {
          "output_type": "execute_result",
          "execution_count": 16,
          "data": {
            "text/plain": "   X_Minimum  Y_Minimum       ...        Luminosity_Index  SigmoidOfAreas\n0         42     270900       ...                 -0.2913          0.5822\n1        645    2538079       ...                 -0.1756          0.2984\n2        829    1553913       ...                 -0.1228          0.2150\n3        853     369370       ...                 -0.1568          0.5212\n4       1289     498078       ...                 -0.1992          1.0000\n5        430     100250       ...                 -0.2267          0.9874\n\n[6 rows x 22 columns]",
            "text/html": "<div>\n<style scoped>\n    .dataframe tbody tr th:only-of-type {\n        vertical-align: middle;\n    }\n\n    .dataframe tbody tr th {\n        vertical-align: top;\n    }\n\n    .dataframe thead th {\n        text-align: right;\n    }\n</style>\n<table border=\"1\" class=\"dataframe\">\n  <thead>\n    <tr style=\"text-align: right;\">\n      <th></th>\n      <th>X_Minimum</th>\n      <th>Y_Minimum</th>\n      <th>Pixels_Areas</th>\n      <th>Y_Perimeter</th>\n      <th>Minimum_of_Luminosity</th>\n      <th>Maximum_of_Luminosity</th>\n      <th>Length_of_Conveyer</th>\n      <th>TypeOfSteel_A300</th>\n      <th>Steel_Plate_Thickness</th>\n      <th>Edges_Index</th>\n      <th>Empty_Index</th>\n      <th>Square_Index</th>\n      <th>Outside_X_Index</th>\n      <th>Edges_X_Index</th>\n      <th>Edges_Y_Index</th>\n      <th>Outside_Global_Index</th>\n      <th>LogOfAreas</th>\n      <th>Log_X_Index</th>\n      <th>Log_Y_Index</th>\n      <th>Orientation_Index</th>\n      <th>Luminosity_Index</th>\n      <th>SigmoidOfAreas</th>\n    </tr>\n  </thead>\n  <tbody>\n    <tr>\n      <th>0</th>\n      <td>42</td>\n      <td>270900</td>\n      <td>267</td>\n      <td>44</td>\n      <td>76</td>\n      <td>108</td>\n      <td>1687</td>\n      <td>1</td>\n      <td>80</td>\n      <td>0.0498</td>\n      <td>0.2415</td>\n      <td>0.1818</td>\n      <td>0.0047</td>\n      <td>0.4706</td>\n      <td>1.0000</td>\n      <td>1.0</td>\n      <td>2.4265</td>\n      <td>0.9031</td>\n      <td>1.6435</td>\n      <td>0.8182</td>\n      <td>-0.2913</td>\n      <td>0.5822</td>\n    </tr>\n    <tr>\n      <th>1</th>\n      <td>645</td>\n      <td>2538079</td>\n      <td>108</td>\n      <td>30</td>\n      <td>84</td>\n      <td>123</td>\n      <td>1687</td>\n      <td>1</td>\n      <td>80</td>\n      <td>0.7647</td>\n      <td>0.3793</td>\n      <td>0.2069</td>\n      <td>0.0036</td>\n      <td>0.6000</td>\n      <td>0.9667</td>\n      <td>1.0</td>\n      <td>2.0334</td>\n      <td>0.7782</td>\n      <td>1.4624</td>\n      <td>0.7931</td>\n      <td>-0.1756</td>\n      <td>0.2984</td>\n    </tr>\n    <tr>\n      <th>2</th>\n      <td>829</td>\n      <td>1553913</td>\n      <td>71</td>\n      <td>19</td>\n      <td>99</td>\n      <td>125</td>\n      <td>1623</td>\n      <td>1</td>\n      <td>100</td>\n      <td>0.9710</td>\n      <td>0.3426</td>\n      <td>0.3333</td>\n      <td>0.0037</td>\n      <td>0.7500</td>\n      <td>0.9474</td>\n      <td>1.0</td>\n      <td>1.8513</td>\n      <td>0.7782</td>\n      <td>1.2553</td>\n      <td>0.6667</td>\n      <td>-0.1228</td>\n      <td>0.2150</td>\n    </tr>\n    <tr>\n      <th>3</th>\n      <td>853</td>\n      <td>369370</td>\n      <td>176</td>\n      <td>45</td>\n      <td>99</td>\n      <td>126</td>\n      <td>1353</td>\n      <td>0</td>\n      <td>290</td>\n      <td>0.7287</td>\n      <td>0.4413</td>\n      <td>0.1556</td>\n      <td>0.0052</td>\n      <td>0.5385</td>\n      <td>1.0000</td>\n      <td>1.0</td>\n      <td>2.2455</td>\n      <td>0.8451</td>\n      <td>1.6532</td>\n      <td>0.8444</td>\n      <td>-0.1568</td>\n      <td>0.5212</td>\n    </tr>\n    <tr>\n      <th>4</th>\n      <td>1289</td>\n      <td>498078</td>\n      <td>2409</td>\n      <td>260</td>\n      <td>37</td>\n      <td>126</td>\n      <td>1353</td>\n      <td>0</td>\n      <td>185</td>\n      <td>0.0695</td>\n      <td>0.4486</td>\n      <td>0.0662</td>\n      <td>0.0126</td>\n      <td>0.2833</td>\n      <td>0.9885</td>\n      <td>1.0</td>\n      <td>3.3818</td>\n      <td>1.2305</td>\n      <td>2.4099</td>\n      <td>0.9338</td>\n      <td>-0.1992</td>\n      <td>1.0000</td>\n    </tr>\n    <tr>\n      <th>5</th>\n      <td>430</td>\n      <td>100250</td>\n      <td>630</td>\n      <td>87</td>\n      <td>64</td>\n      <td>127</td>\n      <td>1387</td>\n      <td>0</td>\n      <td>40</td>\n      <td>0.6200</td>\n      <td>0.3417</td>\n      <td>0.1264</td>\n      <td>0.0079</td>\n      <td>0.5500</td>\n      <td>1.0000</td>\n      <td>1.0</td>\n      <td>2.7993</td>\n      <td>1.0414</td>\n      <td>1.9395</td>\n      <td>0.8736</td>\n      <td>-0.2267</td>\n      <td>0.9874</td>\n    </tr>\n  </tbody>\n</table>\n</div>"
          },
          "metadata": {}
        }
      ]
    },
    {
      "metadata": {
        "_uuid": "5703d0f9514cb7a11926d8ff69054b4c96b4dba3",
        "id": "hkOS0T9tIFMF"
      },
      "cell_type": "markdown",
      "source": [
        "We will drop values further based on dimensionality reduction: low variance filter.\n",
        "We will check variations of each columns, and drop some features wich have less variation."
      ]
    },
    {
      "metadata": {
        "trusted": true,
        "_uuid": "ba7d6562caef71707a5d476633ed90cc28fe26cf",
        "id": "R1uek8vJIFMF",
        "outputId": "3d54fd71-1212-4156-9217-a2b8f69bc73f"
      },
      "cell_type": "code",
      "source": [
        "input_x.var()"
      ],
      "execution_count": null,
      "outputs": [
        {
          "output_type": "execute_result",
          "execution_count": 17,
          "data": {
            "text/plain": "X_Minimum                2.711188e+05\nY_Minimum                3.149129e+12\nPixels_Areas             2.671297e+07\nY_Perimeter              1.818876e+05\nMinimum_of_Luminosity    1.032612e+03\nMaximum_of_Luminosity    3.493532e+02\nLength_of_Conveyer       2.090275e+04\nTypeOfSteel_A300         2.401855e-01\nSteel_Plate_Thickness    3.034471e+03\nEdges_Index              8.982713e-02\nEmpty_Index              1.884072e-02\nSquare_Index             7.347265e-02\nOutside_X_Index          3.476419e-03\nEdges_X_Index            5.918366e-02\nEdges_Y_Index            5.488413e-02\nOutside_Global_Index     2.326634e-01\nLogOfAreas               6.224103e-01\nLog_X_Index              2.319497e-01\nLog_Y_Index              2.064295e-01\nOrientation_Index        2.508688e-01\nLuminosity_Index         2.213157e-02\nSigmoidOfAreas           1.152275e-01\ndtype: float64"
          },
          "metadata": {}
        }
      ]
    },
    {
      "metadata": {
        "id": "8AqrO1mQIFMF"
      },
      "cell_type": "markdown",
      "source": [
        "We find all the columns, which values varies less then 10%:"
      ]
    },
    {
      "metadata": {
        "trusted": true,
        "_uuid": "cdb1a28d050520f700ea75e78c06a3e7ab1e5ba2",
        "id": "Kp8jtYfwIFMF"
      },
      "cell_type": "code",
      "source": [
        "numeric = input_x\n",
        "var = numeric.var()\n",
        "numeric = numeric.columns\n",
        "variable = [ ]\n",
        "for i in range(0,len(var)):\n",
        "    if var[i]>=10:   #setting the threshold as 10%\n",
        "        variable.append(numeric[i+1])"
      ],
      "execution_count": null,
      "outputs": []
    },
    {
      "metadata": {
        "trusted": true,
        "_uuid": "9545822d190a20079a453407c04d3f780dfa67fa",
        "id": "p1OCZMDAIFMF",
        "outputId": "8d671915-8cf6-493f-ceea-33d40df94993"
      },
      "cell_type": "code",
      "source": [
        "variable"
      ],
      "execution_count": null,
      "outputs": [
        {
          "output_type": "execute_result",
          "execution_count": 19,
          "data": {
            "text/plain": "['Y_Minimum',\n 'Pixels_Areas',\n 'Y_Perimeter',\n 'Minimum_of_Luminosity',\n 'Maximum_of_Luminosity',\n 'Length_of_Conveyer',\n 'TypeOfSteel_A300',\n 'Edges_Index']"
          },
          "metadata": {}
        }
      ]
    },
    {
      "metadata": {
        "id": "fXngbsX6IFMF"
      },
      "cell_type": "markdown",
      "source": [
        "Low variance filter shows features which are important according to Random Forest feature selection, so we will not drop  them."
      ]
    },
    {
      "metadata": {
        "trusted": true,
        "id": "_wMPndtxIFMF",
        "outputId": "c24d028d-27a1-4230-add9-dc47bdbc3df9"
      },
      "cell_type": "code",
      "source": [
        "# important features according to Random Forest\n",
        "print(feature_imp)"
      ],
      "execution_count": null,
      "outputs": [
        {
          "output_type": "stream",
          "text": "Length_of_Conveyer       0.066272\nPixels_Areas             0.061566\nLog_X_Index              0.057570\nLogOfAreas               0.056056\nOutside_X_Index          0.048663\nSum_of_Luminosity        0.047155\nSteel_Plate_Thickness    0.044254\nX_Minimum                0.041224\nX_Maximum                0.040016\nOrientation_Index        0.038723\nMinimum_of_Luminosity    0.038047\nEdges_Index              0.036619\nLuminosity_Index         0.036580\nSquare_Index             0.036137\nSigmoidOfAreas           0.034465\nY_Maximum                0.033668\nX_Perimeter              0.033279\nY_Minimum                0.032214\nMaximum_of_Luminosity    0.031179\nEmpty_Index              0.030642\nEdges_Y_Index            0.030124\nLog_Y_Index              0.029530\nTypeOfSteel_A400         0.024934\nEdges_X_Index            0.024869\nY_Perimeter              0.021830\nTypeOfSteel_A300         0.020706\nOutside_Global_Index     0.003681\ndtype: float64\n",
          "name": "stdout"
        }
      ]
    },
    {
      "metadata": {
        "trusted": true,
        "_uuid": "c8d4b5e4187014f319c81a6878873400eec85995",
        "id": "UVjVSVRXIFMF",
        "outputId": "b036564d-f5de-4f61-f788-842038682a32"
      },
      "cell_type": "code",
      "source": [
        "print(len(input_x.iloc[0,:]))"
      ],
      "execution_count": null,
      "outputs": [
        {
          "output_type": "stream",
          "text": "22\n",
          "name": "stdout"
        }
      ]
    },
    {
      "metadata": {
        "_uuid": "566a0fc2f3521cca96255e73fa50f820caa4be61",
        "id": "PECDsq2HIFMF"
      },
      "cell_type": "markdown",
      "source": [
        "We will compare distribution of each classes.  "
      ]
    },
    {
      "metadata": {
        "trusted": true,
        "id": "hLSgwxDvIFMF",
        "outputId": "5edf4dcf-07c5-4b91-b8ea-c53cfa46da10"
      },
      "cell_type": "code",
      "source": [
        "min_max_scaler = preprocessing.MinMaxScaler(feature_range=(0,1))\n",
        "np_scaled = min_max_scaler.fit_transform(input_x)\n",
        "input_x_norm = pd.DataFrame(np_scaled)\n",
        "headers_22= list(input_x.columns.values)\n",
        "input_x_norm.columns = headers_22\n",
        "input_x_norm[0:6]"
      ],
      "execution_count": null,
      "outputs": [
        {
          "output_type": "stream",
          "text": "/opt/conda/lib/python3.6/site-packages/sklearn/preprocessing/data.py:334: DataConversionWarning: Data with input dtype int64, float64 were all converted to float64 by MinMaxScaler.\n  return self.partial_fit(X, y)\n",
          "name": "stderr"
        },
        {
          "output_type": "execute_result",
          "execution_count": 24,
          "data": {
            "text/plain": "   X_Minimum  Y_Minimum       ...        Luminosity_Index  SigmoidOfAreas\n0   0.024633   0.020352       ...                0.431200        0.525766\n1   0.378299   0.195006       ...                0.501706        0.203632\n2   0.486217   0.119190       ...                0.533882        0.108967\n3   0.500293   0.027938       ...                0.513163        0.456527\n4   0.756012   0.037853       ...                0.487325        1.000000\n5   0.252199   0.007206       ...                0.470567        0.985698\n\n[6 rows x 22 columns]",
            "text/html": "<div>\n<style scoped>\n    .dataframe tbody tr th:only-of-type {\n        vertical-align: middle;\n    }\n\n    .dataframe tbody tr th {\n        vertical-align: top;\n    }\n\n    .dataframe thead th {\n        text-align: right;\n    }\n</style>\n<table border=\"1\" class=\"dataframe\">\n  <thead>\n    <tr style=\"text-align: right;\">\n      <th></th>\n      <th>X_Minimum</th>\n      <th>Y_Minimum</th>\n      <th>Pixels_Areas</th>\n      <th>Y_Perimeter</th>\n      <th>Minimum_of_Luminosity</th>\n      <th>Maximum_of_Luminosity</th>\n      <th>Length_of_Conveyer</th>\n      <th>TypeOfSteel_A300</th>\n      <th>Steel_Plate_Thickness</th>\n      <th>Edges_Index</th>\n      <th>Empty_Index</th>\n      <th>Square_Index</th>\n      <th>Outside_X_Index</th>\n      <th>Edges_X_Index</th>\n      <th>Edges_Y_Index</th>\n      <th>Outside_Global_Index</th>\n      <th>LogOfAreas</th>\n      <th>Log_X_Index</th>\n      <th>Log_Y_Index</th>\n      <th>Orientation_Index</th>\n      <th>Luminosity_Index</th>\n      <th>SigmoidOfAreas</th>\n    </tr>\n  </thead>\n  <tbody>\n    <tr>\n      <th>0</th>\n      <td>0.024633</td>\n      <td>0.020352</td>\n      <td>0.001736</td>\n      <td>0.002369</td>\n      <td>0.374384</td>\n      <td>0.328704</td>\n      <td>0.811287</td>\n      <td>1.0</td>\n      <td>0.153846</td>\n      <td>0.050040</td>\n      <td>0.255853</td>\n      <td>0.174952</td>\n      <td>0.003660</td>\n      <td>0.462865</td>\n      <td>1.000000</td>\n      <td>1.0</td>\n      <td>0.435312</td>\n      <td>0.217122</td>\n      <td>0.385916</td>\n      <td>0.912493</td>\n      <td>0.431200</td>\n      <td>0.525766</td>\n    </tr>\n    <tr>\n      <th>1</th>\n      <td>0.378299</td>\n      <td>0.195006</td>\n      <td>0.000694</td>\n      <td>0.001598</td>\n      <td>0.413793</td>\n      <td>0.398148</td>\n      <td>0.811287</td>\n      <td>1.0</td>\n      <td>0.153846</td>\n      <td>0.768388</td>\n      <td>0.401843</td>\n      <td>0.200262</td>\n      <td>0.002402</td>\n      <td>0.594156</td>\n      <td>0.965006</td>\n      <td>1.0</td>\n      <td>0.354804</td>\n      <td>0.172082</td>\n      <td>0.343391</td>\n      <td>0.899834</td>\n      <td>0.501706</td>\n      <td>0.203632</td>\n    </tr>\n    <tr>\n      <th>2</th>\n      <td>0.486217</td>\n      <td>0.119190</td>\n      <td>0.000452</td>\n      <td>0.000992</td>\n      <td>0.487685</td>\n      <td>0.407407</td>\n      <td>0.698413</td>\n      <td>1.0</td>\n      <td>0.230769</td>\n      <td>0.975683</td>\n      <td>0.362962</td>\n      <td>0.327720</td>\n      <td>0.002516</td>\n      <td>0.746347</td>\n      <td>0.944725</td>\n      <td>1.0</td>\n      <td>0.317509</td>\n      <td>0.172082</td>\n      <td>0.294761</td>\n      <td>0.836082</td>\n      <td>0.533882</td>\n      <td>0.108967</td>\n    </tr>\n    <tr>\n      <th>3</th>\n      <td>0.500293</td>\n      <td>0.027938</td>\n      <td>0.001140</td>\n      <td>0.002424</td>\n      <td>0.487685</td>\n      <td>0.412037</td>\n      <td>0.222222</td>\n      <td>0.0</td>\n      <td>0.961538</td>\n      <td>0.732215</td>\n      <td>0.467528</td>\n      <td>0.148533</td>\n      <td>0.004231</td>\n      <td>0.531757</td>\n      <td>1.000000</td>\n      <td>1.0</td>\n      <td>0.398243</td>\n      <td>0.196206</td>\n      <td>0.388194</td>\n      <td>0.925707</td>\n      <td>0.513163</td>\n      <td>0.456527</td>\n    </tr>\n    <tr>\n      <th>4</th>\n      <td>0.756012</td>\n      <td>0.037853</td>\n      <td>0.015768</td>\n      <td>0.014269</td>\n      <td>0.182266</td>\n      <td>0.412037</td>\n      <td>0.222222</td>\n      <td>0.0</td>\n      <td>0.557692</td>\n      <td>0.069835</td>\n      <td>0.475262</td>\n      <td>0.058385</td>\n      <td>0.012694</td>\n      <td>0.272829</td>\n      <td>0.987915</td>\n      <td>1.0</td>\n      <td>0.630962</td>\n      <td>0.335184</td>\n      <td>0.565877</td>\n      <td>0.970797</td>\n      <td>0.487325</td>\n      <td>1.000000</td>\n    </tr>\n    <tr>\n      <th>5</th>\n      <td>0.252199</td>\n      <td>0.007206</td>\n      <td>0.004114</td>\n      <td>0.004738</td>\n      <td>0.315271</td>\n      <td>0.416667</td>\n      <td>0.282187</td>\n      <td>0.0</td>\n      <td>0.000000</td>\n      <td>0.622990</td>\n      <td>0.362009</td>\n      <td>0.119088</td>\n      <td>0.007319</td>\n      <td>0.543425</td>\n      <td>1.000000</td>\n      <td>1.0</td>\n      <td>0.511664</td>\n      <td>0.266994</td>\n      <td>0.455421</td>\n      <td>0.940435</td>\n      <td>0.470567</td>\n      <td>0.985698</td>\n    </tr>\n  </tbody>\n</table>\n</div>"
          },
          "metadata": {}
        }
      ]
    },
    {
      "metadata": {
        "trusted": true,
        "id": "ZHG43RiUIFMF"
      },
      "cell_type": "code",
      "source": [
        "# Import train_test_split function\n",
        "X_train, X_test, y_train, y_test = train_test_split(input_x_norm, Y, test_size=0.3)"
      ],
      "execution_count": null,
      "outputs": []
    },
    {
      "metadata": {
        "id": "5SBJcHKnIFMG"
      },
      "cell_type": "markdown",
      "source": [
        "Decision Trees, Random Forest Classifier, ExtraTrees, AdaBoost:"
      ]
    },
    {
      "metadata": {
        "trusted": true,
        "id": "rN1GIkG1IFMG",
        "outputId": "23b1c2c7-41b1-438a-aada-70f3e156f775"
      },
      "cell_type": "code",
      "source": [
        "# Parameters\n",
        "n_classes = 7\n",
        "n_estimators = 100\n",
        "RANDOM_SEED = 13  # fix the seed on each iteration\n",
        "\n",
        "names = ['DecisionTreeClassifier', 'RandomForestClassifier', 'ExtraTreesClassifier', 'AdaBoostClassifier']\n",
        "models = [DecisionTreeClassifier(max_depth=None),\n",
        "          RandomForestClassifier(n_estimators=n_estimators),\n",
        "          ExtraTreesClassifier(n_estimators=n_estimators),\n",
        "          AdaBoostClassifier(DecisionTreeClassifier(max_depth=None),\n",
        "                             n_estimators=n_estimators)]\n",
        "for counter, model in enumerate(models):\n",
        "    # Train\n",
        "    model.fit(X_train, y_train)\n",
        "    y_pred=model.predict(X_test)\n",
        "    # Model Accuracy, how often is the classifier correct?\n",
        "    print(\"Accuracy \" + names[counter] + \":\",metrics.accuracy_score(y_test, y_pred))"
      ],
      "execution_count": null,
      "outputs": [
        {
          "output_type": "stream",
          "text": "Accuracy DecisionTreeClassifier: 0.7358490566037735\nAccuracy RandomForestClassifier: 0.7684391080617495\nAccuracy ExtraTreesClassifier: 0.7855917667238422\nAccuracy AdaBoostClassifier: 0.7341337907375644\n",
          "name": "stdout"
        }
      ]
    },
    {
      "metadata": {
        "id": "cUC1PXEGIFMG"
      },
      "cell_type": "markdown",
      "source": [
        "Extra Trees Classifier is the most accurate algorithm"
      ]
    },
    {
      "metadata": {
        "trusted": true,
        "id": "EehNsYCsIFMG"
      },
      "cell_type": "code",
      "source": [
        "input_x_NN = dataset[headers_input]\n",
        "min_max_scaler = preprocessing.MinMaxScaler(feature_range=(0,1))\n",
        "np_scaled = min_max_scaler.fit_transform(input_x_NN)\n",
        "df_normalized = pd.DataFrame(np_scaled)\n",
        "df_normalized.columns = headers_input\n",
        "df_normalized[0:6]"
      ],
      "execution_count": null,
      "outputs": []
    },
    {
      "metadata": {
        "id": "Bo6gMP-GIFMG"
      },
      "cell_type": "markdown",
      "source": [
        "We create one-hot encoding for the output y:"
      ]
    },
    {
      "metadata": {
        "trusted": true,
        "id": "Wx9HSWf0IFMG"
      },
      "cell_type": "code",
      "source": [
        "#One Hot Encode our Y:\n",
        "from sklearn.preprocessing import LabelBinarizer\n",
        "encoder = LabelBinarizer()\n",
        "Y_one_hot = encoder.fit_transform(Y)\n",
        "print(Y_one_hot)"
      ],
      "execution_count": null,
      "outputs": []
    },
    {
      "metadata": {
        "id": "SU51K2z5IFMG"
      },
      "cell_type": "markdown",
      "source": [
        "We will create more samples for the class, which has less amount of samples:"
      ]
    },
    {
      "metadata": {
        "trusted": true,
        "id": "_czMW-4GIFMG"
      },
      "cell_type": "code",
      "source": [
        "from imblearn.over_sampling import RandomOverSampler\n",
        "from imblearn.under_sampling import RandomUnderSampler\n",
        "import seaborn as sns\n",
        "ros = RandomOverSampler(random_state=0)\n",
        "X = input_x_norm #df_normalized\n",
        "ros.fit(X, Y)\n",
        "X_resampled, y_resampled = ros.fit_sample(X, Y)\n",
        "print('Amount of elements before:', len(X))\n",
        "print('Amount of elements after:', len(X_resampled))"
      ],
      "execution_count": null,
      "outputs": []
    },
    {
      "metadata": {
        "id": "Uqz6uzzYIFMG"
      },
      "cell_type": "markdown",
      "source": [
        "We increased the amount of classes, so we have 4711 elements instead of 1941, each class has 673 elements"
      ]
    },
    {
      "metadata": {
        "trusted": true,
        "id": "nv0MiL6VIFMG"
      },
      "cell_type": "code",
      "source": [
        "unique, counts = np.unique(y_resampled, return_counts=True)\n",
        "dict(zip(unique, counts))"
      ],
      "execution_count": null,
      "outputs": []
    },
    {
      "metadata": {
        "id": "YjR9CrV9IFMG"
      },
      "cell_type": "markdown",
      "source": [
        "Split data to train and test:"
      ]
    },
    {
      "metadata": {
        "trusted": true,
        "id": "5555t0k_IFMG"
      },
      "cell_type": "code",
      "source": [
        "from sklearn.model_selection import train_test_split\n",
        "X_train,X_test,y_train,y_test = train_test_split(X,\n",
        "                                                 Y_one_hot,\n",
        "                                                 test_size = 0.3,#%70 train, 30% test\n",
        "                                                 random_state = 3)"
      ],
      "execution_count": null,
      "outputs": []
    },
    {
      "metadata": {
        "id": "WKvn9PovIFMG"
      },
      "cell_type": "markdown",
      "source": [
        "Multilayer perceptron:"
      ]
    },
    {
      "metadata": {
        "trusted": true,
        "id": "w1-9tqSPIFMG"
      },
      "cell_type": "code",
      "source": [
        "import keras\n",
        "from keras.models import Sequential\n",
        "from keras.layers import Dense, Dropout, Activation\n",
        "from keras.optimizers import SGD\n",
        "\n",
        "model = Sequential()\n",
        "\n",
        "model.add(Dense(64, activation='relu', input_dim=22))\n",
        "model.add(Dropout(0.5))\n",
        "model.add(Dense(64, activation='relu'))\n",
        "model.add(Dropout(0.5))\n",
        "model.add(Dense(7, activation='softmax'))\n",
        "\n",
        "sgd = SGD(lr=0.01, decay=1e-6, momentum=0.9, nesterov=True)\n",
        "model.compile(loss='categorical_crossentropy',\n",
        "              optimizer=sgd,\n",
        "              metrics=['accuracy'])\n",
        "\n",
        "model.fit(X_train, y_train,\n",
        "          epochs=2000,\n",
        "          batch_size=128)"
      ],
      "execution_count": null,
      "outputs": []
    },
    {
      "metadata": {
        "trusted": true,
        "id": "E0eyWhw0IFMH"
      },
      "cell_type": "code",
      "source": [
        "score = model.evaluate(X_test, y_test, batch_size=128)\n",
        "print(score)\n",
        "print(model.metrics_names)"
      ],
      "execution_count": null,
      "outputs": []
    },
    {
      "metadata": {
        "id": "hpu859HWIFMH"
      },
      "cell_type": "markdown",
      "source": [
        "The accuracy on test set:"
      ]
    },
    {
      "metadata": {
        "trusted": true,
        "id": "5ThcO40JIFMH"
      },
      "cell_type": "code",
      "source": [
        "Y_predicted = model.predict(X_test, batch_size=32, verbose=0)\n",
        "percent = 0\n",
        "for i in range(0, len(Y_predicted)):\n",
        "    class_id_predicted = np.argmax(Y_predicted[i])\n",
        "    class_id_real = np.argmax(y_test[i])\n",
        "    if class_id_predicted == class_id_real:\n",
        "        percent += 1\n",
        "print('val accuracy: ', percent/len(Y_predicted))"
      ],
      "execution_count": null,
      "outputs": []
    }
  ],
  "metadata": {
    "kernelspec": {
      "display_name": "Python 3",
      "language": "python",
      "name": "python3"
    },
    "language_info": {
      "name": "python",
      "version": "3.6.6",
      "mimetype": "text/x-python",
      "codemirror_mode": {
        "name": "ipython",
        "version": 3
      },
      "pygments_lexer": "ipython3",
      "nbconvert_exporter": "python",
      "file_extension": ".py"
    },
    "colab": {
      "name": "Random Forest, Ada Boost, Neural Network",
      "provenance": [],
      "include_colab_link": true
    }
  },
  "nbformat": 4,
  "nbformat_minor": 0
}
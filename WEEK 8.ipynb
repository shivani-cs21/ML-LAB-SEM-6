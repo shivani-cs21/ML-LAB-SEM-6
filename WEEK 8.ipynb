{
 "cells": [
  {
   "cell_type": "code",
   "execution_count": 3,
   "id": "249fc721-ac25-4bdc-a370-2a123a49fa1c",
   "metadata": {},
   "outputs": [],
   "source": [
    "import numpy as np\n",
    "X = np.array(([2, 9], [1, 5], [3, 6]), dtype=float) # two inputs (sleep,study)\n",
    "y = np.array(([92], [86], [89]), dtype=float) # one output [Expected in Exams]\n",
    "X = X/np.amax (X, axis=0) # maximum of X array longitudinally\n",
    "y = y/100"
   ]
  },
  {
   "cell_type": "code",
   "execution_count": 7,
   "id": "9b776513-328d-41da-bf17-835f602c65cd",
   "metadata": {},
   "outputs": [],
   "source": [
    "epoch=5000#Setting training iterations\n",
    "lr=0.1#Setting learning rate\n",
    "inputlayer_neurons = 2#number of features in data set\n",
    "hiddenlayer_neurons = 3#number of hidden layers neurons\n",
    "output_neurons = 1"
   ]
  },
  {
   "cell_type": "code",
   "execution_count": 9,
   "id": "c7534127-b613-4d37-8098-76cb8f801b5a",
   "metadata": {},
   "outputs": [],
   "source": [
    "wh=np.random.uniform(size=(inputlayer_neurons, hiddenlayer_neurons)) #weight of the link fr\n",
    "bh=np.random.uniform(size=(1,hiddenlayer_neurons)) # bias of the link from input node to h \n",
    "wout=np.random.uniform(size=(hiddenlayer_neurons,output_neurons)) #weight of the link from \n",
    "bout=np.random.uniform(size=(1,output_neurons)) #bias of the link from hidden node to outpu"
   ]
  },
  {
   "cell_type": "code",
   "execution_count": 10,
   "id": "931cc606-ca59-4401-bac4-a2eaad0fe523",
   "metadata": {},
   "outputs": [],
   "source": [
    "#Sigmoid Function\n",
    "\n",
    "def sigmoid (x):\n",
    " return 1/(1 + np.exp(-x))\n",
    "\n",
    "#Derivative of Sigmoid Function\n",
    "\n",
    "def derivatives_sigmoid(x):\n",
    " return x * (1 - x)"
   ]
  },
  {
   "cell_type": "code",
   "execution_count": 11,
   "id": "08839788-96e1-4a8c-aa11-a7daa1412958",
   "metadata": {},
   "outputs": [],
   "source": [
    "#draws a random range of numbers uniformly of dim x*y\n",
    "\n",
    "for i in range (epoch):\n",
    "\n",
    "#Forward Propogation\n",
    "\n",
    " hinp1=np.dot (X,wh)\n",
    "\n",
    " hinp=hinp1 + bh\n",
    "\n",
    " hlayer_act = sigmoid(hinp)\n",
    "\n",
    " outinp1=np.dot (hlayer_act, wout)\n",
    "\n",
    " outinp=outinp1+ bout\n",
    "\n",
    " output = sigmoid(outinp)\n",
    "\n",
    "#Backpropagation\n",
    "\n",
    " EO = y-output\n",
    "\n",
    " outgrad = derivatives_sigmoid (output)\n",
    "\n",
    " d_output = EO* outgrad\n",
    "\n",
    " EH=d_output.dot(wout.T)"
   ]
  },
  {
   "cell_type": "code",
   "execution_count": 14,
   "id": "d76db1bd-680a-4473-bc9b-2a8c1c495139",
   "metadata": {},
   "outputs": [
    {
     "name": "stdout",
     "output_type": "stream",
     "text": [
      "Input: \n",
      "[[0.66666667 1.        ]\n",
      " [0.33333333 0.55555556]\n",
      " [1.         0.66666667]]\n",
      "Actual Output: \n",
      "[[0.92]\n",
      " [0.86]\n",
      " [0.89]]\n",
      "Predicted Output: \n",
      " [[0.77360608]\n",
      " [0.76523524]\n",
      " [0.77676973]]\n"
     ]
    }
   ],
   "source": [
    "#how much hidden layer weights contributed to error \n",
    "hiddengrad=derivatives_sigmoid(hlayer_act)\n",
    "d_hiddenlayer=EH*hiddengrad\n",
    "\n",
    "#dotproduct of nextlayererror and currentlayerop \n",
    "wout += hlayer_act.T.dot(d_output) *lr \n",
    "wh += X.T.dot (d_hiddenlayer) *lr\n",
    "\n",
    "print(\"Input: \\n\" + str(X))\n",
    "\n",
    "print(\"Actual Output: \\n\" + str(y)) \n",
    "print(\"Predicted Output: \\n\",output)"
   ]
  },
  {
   "cell_type": "code",
   "execution_count": null,
   "id": "9bd3ec76-9a8f-4a70-bed2-0c58a621c46a",
   "metadata": {},
   "outputs": [],
   "source": []
  }
 ],
 "metadata": {
  "kernelspec": {
   "display_name": "Python 3 (ipykernel)",
   "language": "python",
   "name": "python3"
  },
  "language_info": {
   "codemirror_mode": {
    "name": "ipython",
    "version": 3
   },
   "file_extension": ".py",
   "mimetype": "text/x-python",
   "name": "python",
   "nbconvert_exporter": "python",
   "pygments_lexer": "ipython3",
   "version": "3.11.7"
  }
 },
 "nbformat": 4,
 "nbformat_minor": 5
}
